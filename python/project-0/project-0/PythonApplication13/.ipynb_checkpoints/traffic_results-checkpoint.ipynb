{
 "cells": [
  {
   "cell_type": "markdown",
   "id": "1b6677b5",
   "metadata": {},
   "source": [
    "# ترافیک نقاط"
   ]
  },
  {
   "cell_type": "markdown",
   "id": "31f8469c",
   "metadata": {},
   "source": [
    "نقطه: سه راهي راين - تردد: 13019322"
   ]
  },
  {
   "cell_type": "markdown",
   "id": "04e8b495",
   "metadata": {},
   "source": [
    "نقطه: ماهان - تردد: 25274023"
   ]
  },
  {
   "cell_type": "markdown",
   "id": "a2588850",
   "metadata": {},
   "source": [
    "نقطه: کرمان - تردد: 50270498"
   ]
  },
  {
   "cell_type": "markdown",
   "id": "c0847dbf",
   "metadata": {},
   "source": [
    "نقطه: باغين - تردد: 22392379"
   ]
  },
  {
   "cell_type": "markdown",
   "id": "1faa52db",
   "metadata": {},
   "source": [
    "نقطه: جوپار - تردد: 4505656"
   ]
  },
  {
   "cell_type": "markdown",
   "id": "5bb4d9ae",
   "metadata": {},
   "source": [
    "نقطه: چترود - تردد: 14826896"
   ]
  },
  {
   "cell_type": "markdown",
   "id": "91d22345",
   "metadata": {},
   "source": [
    "نقطه: زرند - تردد: 14821715"
   ]
  },
  {
   "cell_type": "markdown",
   "id": "8b301d7e",
   "metadata": {},
   "source": [
    "نقطه: جاده قديم ماهان - تردد: 2072958"
   ]
  },
  {
   "cell_type": "markdown",
   "id": "000245da",
   "metadata": {},
   "source": [
    "نقطه: كرمان - تردد: 3313443"
   ]
  },
  {
   "cell_type": "markdown",
   "id": "e2f1c074",
   "metadata": {},
   "source": [
    "نقطه: شهداد - تردد: 270008"
   ]
  },
  {
   "cell_type": "markdown",
   "id": "23cd8c94",
   "metadata": {},
   "source": [
    "نقطه: نهبندان - تردد: 270008"
   ]
  },
  {
   "cell_type": "markdown",
   "id": "a5e38c02",
   "metadata": {},
   "source": [
    "نقطه: کوهپايه - تردد: 2532319"
   ]
  },
  {
   "cell_type": "markdown",
   "id": "441ff400",
   "metadata": {},
   "source": [
    "نقطه: جاده قديم کرمان - تردد: 2526990"
   ]
  },
  {
   "cell_type": "markdown",
   "id": "1e10c3ea",
   "metadata": {},
   "source": [
    "نقطه: راور - تردد: 2154032"
   ]
  },
  {
   "cell_type": "markdown",
   "id": "d4172a85",
   "metadata": {},
   "source": [
    "نقطه: ديهوک - تردد: 993172"
   ]
  },
  {
   "cell_type": "markdown",
   "id": "5b82efdf",
   "metadata": {},
   "source": [
    "نقطه: بم - تردد: 16043597"
   ]
  },
  {
   "cell_type": "markdown",
   "id": "944177ef",
   "metadata": {},
   "source": [
    "نقطه: سيرچ - تردد: 491482"
   ]
  },
  {
   "cell_type": "markdown",
   "id": "37289b4a",
   "metadata": {},
   "source": [
    "نقطه: کمربندي باغين - تردد: 1056184"
   ]
  },
  {
   "cell_type": "markdown",
   "id": "b8a5e938",
   "metadata": {},
   "source": [
    "نقطه: اختيار آباد - تردد: 4891017"
   ]
  },
  {
   "cell_type": "markdown",
   "id": "fe98cde5",
   "metadata": {},
   "source": [
    "نقطه: زنگي آباد - تردد: 3167578"
   ]
  },
  {
   "cell_type": "markdown",
   "id": "6b7f8685",
   "metadata": {},
   "source": [
    "نقطه: هوتک - تردد: 5246074"
   ]
  },
  {
   "cell_type": "markdown",
   "id": "cb72354e",
   "metadata": {},
   "source": [
    "نقطه: سيرج - تردد: 504109"
   ]
  },
  {
   "cell_type": "markdown",
   "id": "058ffff6",
   "metadata": {},
   "source": [
    "نقطه: بافت - تردد: 15048103"
   ]
  },
  {
   "cell_type": "markdown",
   "id": "18dcfddc",
   "metadata": {},
   "source": [
    "نقطه: ارزوئيه - تردد: 2454597"
   ]
  },
  {
   "cell_type": "markdown",
   "id": "7ce28777",
   "metadata": {},
   "source": [
    "نقطه: وکيل‌آباد - تردد: 805529"
   ]
  },
  {
   "cell_type": "markdown",
   "id": "28b82552",
   "metadata": {},
   "source": [
    "نقطه: رابر - تردد: 1816467"
   ]
  },
  {
   "cell_type": "markdown",
   "id": "ce514edf",
   "metadata": {},
   "source": [
    "نقطه: ارزوييه - تردد: 2083822"
   ]
  },
  {
   "cell_type": "markdown",
   "id": "ef704286",
   "metadata": {},
   "source": [
    "نقطه: جيرفت - تردد: 24922539"
   ]
  },
  {
   "cell_type": "markdown",
   "id": "a826f967",
   "metadata": {},
   "source": [
    "نقطه: بردسير - تردد: 11174702"
   ]
  },
  {
   "cell_type": "markdown",
   "id": "250ea2f2",
   "metadata": {},
   "source": [
    "نقطه: سيرجان - تردد: 36636456"
   ]
  },
  {
   "cell_type": "markdown",
   "id": "027398be",
   "metadata": {},
   "source": [
    "نقطه: ايرانشهر - تردد: 2574194"
   ]
  },
  {
   "cell_type": "markdown",
   "id": "bbf08722",
   "metadata": {},
   "source": [
    "نقطه: نرمانشير - تردد: 2032624"
   ]
  },
  {
   "cell_type": "markdown",
   "id": "4e88e303",
   "metadata": {},
   "source": [
    "نقطه: فهرج - تردد: 2032624"
   ]
  },
  {
   "cell_type": "markdown",
   "id": "0047fe72",
   "metadata": {},
   "source": [
    "نقطه: زاهدان - تردد: 6523852"
   ]
  },
  {
   "cell_type": "markdown",
   "id": "c7dcaf3f",
   "metadata": {},
   "source": [
    "نقطه: دهبکري - تردد: 1953331"
   ]
  },
  {
   "cell_type": "markdown",
   "id": "5ab9e2d6",
   "metadata": {},
   "source": [
    "نقطه: کهنوج - تردد: 17514489"
   ]
  },
  {
   "cell_type": "markdown",
   "id": "240da2c6",
   "metadata": {},
   "source": [
    "نقطه: فارياب - تردد: 3656486"
   ]
  },
  {
   "cell_type": "markdown",
   "id": "deea3aa4",
   "metadata": {},
   "source": [
    "نقطه: فرودگاه - تردد: 922195"
   ]
  },
  {
   "cell_type": "markdown",
   "id": "85dc6c45",
   "metadata": {},
   "source": [
    "نقطه: درب بهشت - تردد: 602429"
   ]
  },
  {
   "cell_type": "markdown",
   "id": "cee42028",
   "metadata": {},
   "source": [
    "نقطه: عنبرآباد - تردد: 2203594"
   ]
  },
  {
   "cell_type": "markdown",
   "id": "a5ff36b7",
   "metadata": {},
   "source": [
    "نقطه: مردهک - تردد: 1373227"
   ]
  },
  {
   "cell_type": "markdown",
   "id": "f0fdaad2",
   "metadata": {},
   "source": [
    "نقطه: رفسنجان - تردد: 19263447"
   ]
  },
  {
   "cell_type": "markdown",
   "id": "bd017fc5",
   "metadata": {},
   "source": [
    "نقطه: انار - تردد: 13586430"
   ]
  },
  {
   "cell_type": "markdown",
   "id": "94586be8",
   "metadata": {},
   "source": [
    "نقطه: مهريز - تردد: 5735795"
   ]
  },
  {
   "cell_type": "markdown",
   "id": "73d7099c",
   "metadata": {},
   "source": [
    "نقطه: شهربابک - تردد: 22066134"
   ]
  },
  {
   "cell_type": "markdown",
   "id": "6f383045",
   "metadata": {},
   "source": [
    "نقطه: نوق - تردد: 3256114"
   ]
  },
  {
   "cell_type": "markdown",
   "id": "f587d61f",
   "metadata": {},
   "source": [
    "نقطه: سرچشمه - تردد: 4965706"
   ]
  },
  {
   "cell_type": "markdown",
   "id": "1fb17e76",
   "metadata": {},
   "source": [
    "نقطه: دشتخاک - تردد: 1917751"
   ]
  },
  {
   "cell_type": "markdown",
   "id": "3e9ec8be",
   "metadata": {},
   "source": [
    "نقطه: بافق - تردد: 1268216"
   ]
  },
  {
   "cell_type": "markdown",
   "id": "3a197ecf",
   "metadata": {},
   "source": [
    "نقطه: حاجي آباد - تردد: 5411304"
   ]
  },
  {
   "cell_type": "markdown",
   "id": "5eb0636f",
   "metadata": {},
   "source": [
    "نقطه: نيريز - تردد: 7156042"
   ]
  },
  {
   "cell_type": "markdown",
   "id": "591eb506",
   "metadata": {},
   "source": [
    "نقطه: کمربندي سيرجان - تردد: 1149105"
   ]
  },
  {
   "cell_type": "markdown",
   "id": "91c610cd",
   "metadata": {},
   "source": [
    "نقطه: پاريز - تردد: 1568686"
   ]
  },
  {
   "cell_type": "markdown",
   "id": "a7a2da19",
   "metadata": {},
   "source": [
    "نقطه: جوزم - تردد: 3470614"
   ]
  },
  {
   "cell_type": "markdown",
   "id": "c9018ae3",
   "metadata": {},
   "source": [
    "نقطه: هرات - تردد: 886598"
   ]
  },
  {
   "cell_type": "markdown",
   "id": "8dce1b1e",
   "metadata": {},
   "source": [
    "نقطه: رودبار - تردد: 4077770"
   ]
  },
  {
   "cell_type": "markdown",
   "id": "1182983b",
   "metadata": {},
   "source": [
    "نقطه: زهکلوت - تردد: 3803287"
   ]
  },
  {
   "cell_type": "markdown",
   "id": "5bbbbe08",
   "metadata": {},
   "source": [
    "نقطه: رودان - تردد: 2373937"
   ]
  },
  {
   "cell_type": "markdown",
   "id": "02604b9e",
   "metadata": {},
   "source": [
    "نقطه: قلعه گنج - تردد: 2904004"
   ]
  },
  {
   "cell_type": "markdown",
   "id": "06ec2bfd",
   "metadata": {},
   "source": [
    "نقطه: منوجان - تردد: 3127898"
   ]
  },
  {
   "cell_type": "markdown",
   "id": "1682002e",
   "metadata": {},
   "source": [
    "نقطه: زيارتعلي - تردد: 403348"
   ]
  },
  {
   "cell_type": "markdown",
   "id": "345e7a2e",
   "metadata": {},
   "source": [
    "نقطه: نگار - تردد: 85184"
   ]
  },
  {
   "cell_type": "markdown",
   "id": "845f5807",
   "metadata": {},
   "source": [
    "نقطه: بهرامجرد - تردد: 85184"
   ]
  },
  {
   "cell_type": "markdown",
   "id": "7ec15dc2",
   "metadata": {},
   "source": [
    "نقطه: بلوک - تردد: 414716"
   ]
  },
  {
   "cell_type": "markdown",
   "id": "058db449",
   "metadata": {},
   "source": [
    "نقطه: جيرف - تردد: 361308"
   ]
  },
  {
   "cell_type": "markdown",
   "id": "9be12d21",
   "metadata": {},
   "source": [
    "نقطه: در بهشت - تردد: 33289"
   ]
  },
  {
   "cell_type": "markdown",
   "id": "dd7777d3",
   "metadata": {},
   "source": [
    "نقطه: گلمورتي - تردد: 425627"
   ]
  }
 ],
 "metadata": {},
 "nbformat": 4,
 "nbformat_minor": 5
}

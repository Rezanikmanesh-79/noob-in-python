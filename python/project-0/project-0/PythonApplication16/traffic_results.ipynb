{
 "cells": [
  {
   "cell_type": "markdown",
   "id": "da997701",
   "metadata": {},
   "source": [
    "## نقاط با افزایش ترافیک:"
   ]
  },
  {
   "cell_type": "markdown",
   "id": "8de12a0c",
   "metadata": {},
   "source": [
    "| نقطه |"
   ]
  },
  {
   "cell_type": "markdown",
   "id": "a2dd87c8",
   "metadata": {},
   "source": [
    "| ---- |"
   ]
  },
  {
   "cell_type": "markdown",
   "id": "002da3ee",
   "metadata": {},
   "source": [
    "| کرمان |"
   ]
  },
  {
   "cell_type": "markdown",
   "id": "d4d4adda",
   "metadata": {},
   "source": [
    "| ماهان |"
   ]
  },
  {
   "cell_type": "markdown",
   "id": "e2d9d7bb",
   "metadata": {},
   "source": [
    "| باغين |"
   ]
  },
  {
   "cell_type": "markdown",
   "id": "fc4e94a4",
   "metadata": {},
   "source": [
    "| جوپار |"
   ]
  },
  {
   "cell_type": "markdown",
   "id": "c7c53f3d",
   "metadata": {},
   "source": [
    "| کرمان  |"
   ]
  },
  {
   "cell_type": "markdown",
   "id": "425f2bc5",
   "metadata": {},
   "source": [
    "| راين |"
   ]
  },
  {
   "cell_type": "markdown",
   "id": "0fd6a2c3",
   "metadata": {},
   "source": [
    "| کوهپايه |"
   ]
  },
  {
   "cell_type": "markdown",
   "id": "8300dee9",
   "metadata": {},
   "source": [
    "| ماهان  |"
   ]
  },
  {
   "cell_type": "markdown",
   "id": "f01ad227",
   "metadata": {},
   "source": [
    "| راور |"
   ]
  },
  {
   "cell_type": "markdown",
   "id": "d7a89499",
   "metadata": {},
   "source": [
    "| ارزوئيه  |"
   ]
  },
  {
   "cell_type": "markdown",
   "id": "9d36c096",
   "metadata": {},
   "source": [
    "| بافت  |"
   ]
  },
  {
   "cell_type": "markdown",
   "id": "5096f6a7",
   "metadata": {},
   "source": [
    "| رستم آباد |"
   ]
  },
  {
   "cell_type": "markdown",
   "id": "0ba36b2a",
   "metadata": {},
   "source": [
    "| بزمان |"
   ]
  },
  {
   "cell_type": "markdown",
   "id": "37896058",
   "metadata": {},
   "source": [
    "| بم  |"
   ]
  },
  {
   "cell_type": "markdown",
   "id": "6ffb743c",
   "metadata": {},
   "source": [
    "| کهنوج |"
   ]
  },
  {
   "cell_type": "markdown",
   "id": "9a4bb009",
   "metadata": {},
   "source": [
    "| دلفارد |"
   ]
  },
  {
   "cell_type": "markdown",
   "id": "d02c9e5d",
   "metadata": {},
   "source": [
    "| جيرف |"
   ]
  },
  {
   "cell_type": "markdown",
   "id": "ce917dac",
   "metadata": {},
   "source": [
    "| سرچشمه |"
   ]
  },
  {
   "cell_type": "markdown",
   "id": "358370eb",
   "metadata": {},
   "source": [
    "| رفسنجان  |"
   ]
  },
  {
   "cell_type": "markdown",
   "id": "c5f400db",
   "metadata": {},
   "source": [
    "| بافق  |"
   ]
  },
  {
   "cell_type": "markdown",
   "id": "53cb589d",
   "metadata": {},
   "source": [
    "| دشتخاک |"
   ]
  },
  {
   "cell_type": "markdown",
   "id": "db37e1f0",
   "metadata": {},
   "source": [
    "| بافق |"
   ]
  },
  {
   "cell_type": "markdown",
   "id": "69ebb98d",
   "metadata": {},
   "source": [
    "| حاجي آباد |"
   ]
  },
  {
   "cell_type": "markdown",
   "id": "012fd87f",
   "metadata": {},
   "source": [
    "| قطروئيه  |"
   ]
  },
  {
   "cell_type": "markdown",
   "id": "f6bfb438",
   "metadata": {},
   "source": [
    "| سيرجان  |"
   ]
  },
  {
   "cell_type": "markdown",
   "id": "be7e8f10",
   "metadata": {},
   "source": [
    "| جوزم  |"
   ]
  },
  {
   "cell_type": "markdown",
   "id": "ed4780ec",
   "metadata": {},
   "source": [
    "| جوزم |"
   ]
  },
  {
   "cell_type": "markdown",
   "id": "4048ed39",
   "metadata": {},
   "source": [
    "| شهربابک  |"
   ]
  },
  {
   "cell_type": "markdown",
   "id": "0707e72e",
   "metadata": {},
   "source": [
    "| هرات |"
   ]
  },
  {
   "cell_type": "markdown",
   "id": "c43b4d16",
   "metadata": {},
   "source": [
    "| رودبار |"
   ]
  },
  {
   "cell_type": "markdown",
   "id": "94fd9257",
   "metadata": {},
   "source": [
    "| گلمورتي |"
   ]
  },
  {
   "cell_type": "markdown",
   "id": "d87601ff",
   "metadata": {},
   "source": [
    "| سيرج |"
   ]
  },
  {
   "cell_type": "markdown",
   "id": "f0e703c8",
   "metadata": {},
   "source": [
    "| فهرج |"
   ]
  },
  {
   "cell_type": "markdown",
   "id": "808be149",
   "metadata": {},
   "source": [
    "| نوق |"
   ]
  },
  {
   "cell_type": "markdown",
   "id": "12dc316e",
   "metadata": {},
   "source": [
    "| رودان |"
   ]
  },
  {
   "cell_type": "markdown",
   "id": "99bbc947",
   "metadata": {},
   "source": [
    "| چترود  |"
   ]
  },
  {
   "cell_type": "markdown",
   "id": "a7d6e781",
   "metadata": {},
   "source": [
    "| سه‌راهي راين  |"
   ]
  },
  {
   "cell_type": "markdown",
   "id": "c6c3efde",
   "metadata": {},
   "source": [
    "| كرمان |"
   ]
  },
  {
   "cell_type": "markdown",
   "id": "d7c2cd6b",
   "metadata": {},
   "source": [
    "| جاده قديم کرمان |"
   ]
  },
  {
   "cell_type": "markdown",
   "id": "0a234082",
   "metadata": {},
   "source": [
    "| ديهوک  |"
   ]
  },
  {
   "cell_type": "markdown",
   "id": "a88bd50a",
   "metadata": {},
   "source": [
    "| سه‌راهي جيرفت) |"
   ]
  },
  {
   "cell_type": "markdown",
   "id": "e250951c",
   "metadata": {},
   "source": [
    "| کمربندي باغين |"
   ]
  },
  {
   "cell_type": "markdown",
   "id": "ed85b37b",
   "metadata": {},
   "source": [
    "| اختيار آباد |"
   ]
  },
  {
   "cell_type": "markdown",
   "id": "11b0950b",
   "metadata": {},
   "source": [
    "| زنگي آباد |"
   ]
  },
  {
   "cell_type": "markdown",
   "id": "dabafb9a",
   "metadata": {},
   "source": [
    "| هوتک  |"
   ]
  },
  {
   "cell_type": "markdown",
   "id": "620ab716",
   "metadata": {},
   "source": [
    "| راور  |"
   ]
  },
  {
   "cell_type": "markdown",
   "id": "70ed0c70",
   "metadata": {},
   "source": [
    "| کمربندي جوپار |"
   ]
  },
  {
   "cell_type": "markdown",
   "id": "d553b8ec",
   "metadata": {},
   "source": [
    "| وکيل‌آباد |"
   ]
  },
  {
   "cell_type": "markdown",
   "id": "4063d009",
   "metadata": {},
   "source": [
    "| نرمانشير) |"
   ]
  },
  {
   "cell_type": "markdown",
   "id": "1a69a5ea",
   "metadata": {},
   "source": [
    "| نرمانشير |"
   ]
  },
  {
   "cell_type": "markdown",
   "id": "514412b3",
   "metadata": {},
   "source": [
    "| بم) |"
   ]
  },
  {
   "cell_type": "markdown",
   "id": "24ee26a2",
   "metadata": {},
   "source": [
    "| فارياب  |"
   ]
  },
  {
   "cell_type": "markdown",
   "id": "7ace482d",
   "metadata": {},
   "source": [
    "| جيرفت  |"
   ]
  },
  {
   "cell_type": "markdown",
   "id": "de0d81b2",
   "metadata": {},
   "source": [
    "| مهريز  |"
   ]
  },
  {
   "cell_type": "markdown",
   "id": "31747e57",
   "metadata": {},
   "source": [
    "| مهريز |"
   ]
  },
  {
   "cell_type": "markdown",
   "id": "d7f744fd",
   "metadata": {},
   "source": [
    "| انار  |"
   ]
  },
  {
   "cell_type": "markdown",
   "id": "f18eef73",
   "metadata": {},
   "source": [
    "| نيريز  |"
   ]
  },
  {
   "cell_type": "markdown",
   "id": "14d94af1",
   "metadata": {},
   "source": [
    "| کمربندي سيرجان |"
   ]
  },
  {
   "cell_type": "markdown",
   "id": "a4991961",
   "metadata": {},
   "source": [
    "| نيريز |"
   ]
  },
  {
   "cell_type": "markdown",
   "id": "ff57ebe1",
   "metadata": {},
   "source": [
    "| کمربندي کرمان  |"
   ]
  },
  {
   "cell_type": "markdown",
   "id": "74203cdc",
   "metadata": {},
   "source": [
    "| کمربندي کرمان |"
   ]
  },
  {
   "cell_type": "markdown",
   "id": "f27a209a",
   "metadata": {},
   "source": [
    "| باغين  |"
   ]
  },
  {
   "cell_type": "markdown",
   "id": "2826d765",
   "metadata": {},
   "source": [
    "| ارزوييه |"
   ]
  },
  {
   "cell_type": "markdown",
   "id": "3aed975e",
   "metadata": {},
   "source": [
    "| زاهدان |"
   ]
  },
  {
   "cell_type": "markdown",
   "id": "9c6efbae",
   "metadata": {},
   "source": [
    "| دهبکري |"
   ]
  },
  {
   "cell_type": "markdown",
   "id": "9d2bad4b",
   "metadata": {},
   "source": [
    "| عنبرآباد |"
   ]
  },
  {
   "cell_type": "markdown",
   "id": "fddf937d",
   "metadata": {},
   "source": [
    "| مردهک |"
   ]
  },
  {
   "cell_type": "markdown",
   "id": "3a4063ba",
   "metadata": {},
   "source": [
    "| زهکلوت |"
   ]
  },
  {
   "cell_type": "markdown",
   "id": "b90a1e78",
   "metadata": {},
   "source": [
    "## نقاط با کاهش ترافیک:"
   ]
  },
  {
   "cell_type": "markdown",
   "id": "1b3564bd",
   "metadata": {},
   "source": [
    "| نقطه |"
   ]
  },
  {
   "cell_type": "markdown",
   "id": "e7cb1f4d",
   "metadata": {},
   "source": [
    "| ---- |"
   ]
  },
  {
   "cell_type": "markdown",
   "id": "ac0e6159",
   "metadata": {},
   "source": [
    "| چترود |"
   ]
  },
  {
   "cell_type": "markdown",
   "id": "851a13a3",
   "metadata": {},
   "source": [
    "| جيرفت |"
   ]
  },
  {
   "cell_type": "markdown",
   "id": "78eacfc3",
   "metadata": {},
   "source": [
    "| زرند |"
   ]
  },
  {
   "cell_type": "markdown",
   "id": "0ca1bcaf",
   "metadata": {},
   "source": [
    "| شهداد |"
   ]
  },
  {
   "cell_type": "markdown",
   "id": "007913f8",
   "metadata": {},
   "source": [
    "| نهبندان  |"
   ]
  },
  {
   "cell_type": "markdown",
   "id": "e7a2e954",
   "metadata": {},
   "source": [
    "| نهبندان |"
   ]
  },
  {
   "cell_type": "markdown",
   "id": "4b3d9c5a",
   "metadata": {},
   "source": [
    "| شهداد  |"
   ]
  },
  {
   "cell_type": "markdown",
   "id": "a87c4fb2",
   "metadata": {},
   "source": [
    "| ديهوک |"
   ]
  },
  {
   "cell_type": "markdown",
   "id": "97c6f096",
   "metadata": {},
   "source": [
    "| بافت |"
   ]
  },
  {
   "cell_type": "markdown",
   "id": "46ec4d2e",
   "metadata": {},
   "source": [
    "| ارزوئيه |"
   ]
  },
  {
   "cell_type": "markdown",
   "id": "6015e7a1",
   "metadata": {},
   "source": [
    "| رابر |"
   ]
  },
  {
   "cell_type": "markdown",
   "id": "6c7f7c9f",
   "metadata": {},
   "source": [
    "| رابر  |"
   ]
  },
  {
   "cell_type": "markdown",
   "id": "dcd5936c",
   "metadata": {},
   "source": [
    "| بردسير |"
   ]
  },
  {
   "cell_type": "markdown",
   "id": "3e0303da",
   "metadata": {},
   "source": [
    "| سيرجان |"
   ]
  },
  {
   "cell_type": "markdown",
   "id": "b5e5a6ed",
   "metadata": {},
   "source": [
    "| جبالبارز |"
   ]
  },
  {
   "cell_type": "markdown",
   "id": "dbabee02",
   "metadata": {},
   "source": [
    "| رفسنجان |"
   ]
  },
  {
   "cell_type": "markdown",
   "id": "3091bc0b",
   "metadata": {},
   "source": [
    "| انار |"
   ]
  },
  {
   "cell_type": "markdown",
   "id": "440f963d",
   "metadata": {},
   "source": [
    "| يزد |"
   ]
  },
  {
   "cell_type": "markdown",
   "id": "dbb27cff",
   "metadata": {},
   "source": [
    "|  |"
   ]
  },
  {
   "cell_type": "markdown",
   "id": "49493bf9",
   "metadata": {},
   "source": [
    "| زرند  |"
   ]
  },
  {
   "cell_type": "markdown",
   "id": "25ce89fe",
   "metadata": {},
   "source": [
    "| شهربابک |"
   ]
  },
  {
   "cell_type": "markdown",
   "id": "a5617e10",
   "metadata": {},
   "source": [
    "| شهر |"
   ]
  },
  {
   "cell_type": "markdown",
   "id": "9a079266",
   "metadata": {},
   "source": [
    "| بم |"
   ]
  },
  {
   "cell_type": "markdown",
   "id": "d93ab15e",
   "metadata": {},
   "source": [
    "| سيرچ |"
   ]
  },
  {
   "cell_type": "markdown",
   "id": "643857cd",
   "metadata": {},
   "source": [
    "| فارياب |"
   ]
  },
  {
   "cell_type": "markdown",
   "id": "13483e32",
   "metadata": {},
   "source": [
    "| فرودگاه |"
   ]
  },
  {
   "cell_type": "markdown",
   "id": "88565dcc",
   "metadata": {},
   "source": [
    "| درب بهشت |"
   ]
  },
  {
   "cell_type": "markdown",
   "id": "a27efc94",
   "metadata": {},
   "source": [
    "| در بهشت |"
   ]
  },
  {
   "cell_type": "markdown",
   "id": "2d260e42",
   "metadata": {},
   "source": [
    "| قلعه گنج |"
   ]
  },
  {
   "cell_type": "markdown",
   "id": "b1151c20",
   "metadata": {},
   "source": [
    "| سه‌راهي راين |"
   ]
  },
  {
   "cell_type": "markdown",
   "id": "8fa93b10",
   "metadata": {},
   "source": [
    "| جاده قديم ماهان |"
   ]
  },
  {
   "cell_type": "markdown",
   "id": "4aa5a639",
   "metadata": {},
   "source": [
    "| سه‌راهي راين) |"
   ]
  },
  {
   "cell_type": "markdown",
   "id": "55d46db6",
   "metadata": {},
   "source": [
    "| وکيل‌آباد  |"
   ]
  },
  {
   "cell_type": "markdown",
   "id": "0c2e0c60",
   "metadata": {},
   "source": [
    "| ايرانشهر |"
   ]
  },
  {
   "cell_type": "markdown",
   "id": "1bd706e3",
   "metadata": {},
   "source": [
    "| ايرانشهر  |"
   ]
  },
  {
   "cell_type": "markdown",
   "id": "ab552010",
   "metadata": {},
   "source": [
    "| بزمان) |"
   ]
  },
  {
   "cell_type": "markdown",
   "id": "0d6cc62b",
   "metadata": {},
   "source": [
    "| هرات  |"
   ]
  },
  {
   "cell_type": "markdown",
   "id": "50ca96e9",
   "metadata": {},
   "source": [
    "| سه راهي راين |"
   ]
  },
  {
   "cell_type": "markdown",
   "id": "bb7d1238",
   "metadata": {},
   "source": [
    "| پاريز |"
   ]
  },
  {
   "cell_type": "markdown",
   "id": "8e790b65",
   "metadata": {},
   "source": [
    "| منوجان |"
   ]
  },
  {
   "cell_type": "markdown",
   "id": "e159bd08",
   "metadata": {},
   "source": [
    "| زيارتعلي |"
   ]
  }
 ],
 "metadata": {},
 "nbformat": 4,
 "nbformat_minor": 5
}

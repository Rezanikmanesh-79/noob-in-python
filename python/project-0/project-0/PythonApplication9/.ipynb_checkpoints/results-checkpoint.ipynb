{
 "cells": [
  {
   "cell_type": "markdown",
   "id": "90737949",
   "metadata": {},
   "source": [
    "## Results\n",
    "| نام محور ها    |            میزان تردد |\n",
    "|:---------------|----------------------:|\n",
    "| محور ۳         |                   120 |\n",
    "| محور ۱         |                   100 |\n",
    "| محور ۲         |                    80 |"
   ]
  }
 ],
 "metadata": {},
 "nbformat": 4,
 "nbformat_minor": 5
}

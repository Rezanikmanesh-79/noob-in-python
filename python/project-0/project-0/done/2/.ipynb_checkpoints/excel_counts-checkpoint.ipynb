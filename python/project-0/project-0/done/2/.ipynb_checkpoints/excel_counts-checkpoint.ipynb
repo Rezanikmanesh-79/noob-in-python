{
 "cells": [
  {
   "cell_type": "markdown",
   "id": "a408589a",
   "metadata": {},
   "source": [
    "## Excel Counts"
   ]
  },
  {
   "cell_type": "markdown",
   "id": "8e3d7e62",
   "metadata": {},
   "source": [
    "| نقاط استان | Count |\n",
    "|------------|-------|\n",
    "| ساوه | 5 |\n",
    "| خمين‬ | 4 |\n",
    "| سلفچگان | 4 |\n",
    "| اراک | 4 |\n",
    "| شازند‬ | 3 |\n",
    "| تهران | 3 |\n",
    "| اراك‬ | 2 |\n",
    "| بروجرد | 2 |\n",
    "| توره | 2 |\n",
    "| محلات‬ | 2 |\n",
    "| دليجان‬ | 2 |\n",
    "| دليجان | 2 |\n",
    "| آوه‬ | 2 |\n",
    "| خنداب‬ | 1 |\n",
    "| بروجرد‬ | 1 |\n",
    "| فرمهين‬ | 1 |\n",
    "| سه راهي خنداب‬ | 1 |\n",
    "| راهجرد‬ | 1 |\n",
    "| قهاوند‬ | 1 |\n",
    "| آشتيان‬ | 1 |\n",
    "| کميجان‬ | 1 |\n",
    "| گلپايگان | 1 |\n",
    "| اليگودرز‬ | 1 |\n",
    "| خمين | 1 |\n",
    "| نراق‬ | 1 |\n",
    "| ميمه | 1 |\n",
    "| همدان‬ | 1 |\n",
    "| پرند‬ | 1 |\n",
    "| بوئين زهرا‬ | 1 |\n",
    "| شهرک صنعتي کاوه‬ | 1 |\n",
    "| همدان | 1 |\n",
    "| پرندك‬ | 1 |\n",
    "| شازند | 1 |\n",
    "| ملاير‬ | 1 |\n",
    "| سه راهي شازند‬ | 1 |\n",
    "| ازنا | 1 |\n",
    "| توره‬ | 1 |"
   ]
  }
 ],
 "metadata": {
  "kernelspec": {
   "display_name": "Python 3 (ipykernel)",
   "language": "python",
   "name": "python3"
  },
  "language_info": {
   "codemirror_mode": {
    "name": "ipython",
    "version": 3
   },
   "file_extension": ".py",
   "mimetype": "text/x-python",
   "name": "python",
   "nbconvert_exporter": "python",
   "pygments_lexer": "ipython3",
   "version": "3.12.1"
  }
 },
 "nbformat": 4,
 "nbformat_minor": 5
}

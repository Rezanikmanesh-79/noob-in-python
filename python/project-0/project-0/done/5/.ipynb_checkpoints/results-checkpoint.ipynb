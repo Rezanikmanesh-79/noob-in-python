{
 "cells": [
  {
   "cell_type": "markdown",
   "id": "23758b54",
   "metadata": {},
   "source": [
    "## Results\n"
   ]
  }
 ],
 "metadata": {},
 "nbformat": 4,
 "nbformat_minor": 5
}

{
 "cells": [
  {
   "cell_type": "code",
   "execution_count": 160,
   "id": "cce5366f-1f92-4fc0-afda-c637a42bf3b7",
   "metadata": {},
   "outputs": [
    {
     "name": "stdin",
     "output_type": "stream",
     "text": [
      "please entear your name :  reza nikmanesh\n"
     ]
    }
   ],
   "source": [
    "user_input=input(\"please entear your name : \")"
   ]
  },
  {
   "cell_type": "code",
   "execution_count": 168,
   "id": "9986a59a-a07f-459b-a582-a07e291c2481",
   "metadata": {},
   "outputs": [
    {
     "name": "stdout",
     "output_type": "stream",
     "text": [
      "Reza Nikmanesh\n"
     ]
    }
   ],
   "source": [
    "for i in range(len(user_input)):\n",
    "    if i==0:\n",
    "        new_name=(user_input[i].upper())+user_input[1:]\n",
    "    elif user_input[i]==\" \":\n",
    "        new_name=new_name[:i+1]+(user_input[i+1].upper())+user_input[i+2:]\n",
    "    else:\n",
    "        continue\n",
    "    \n",
    "print(new_name)\n"
   ]
  }
 ],
 "metadata": {
  "kernelspec": {
   "display_name": "Python 3 (ipykernel)",
   "language": "python",
   "name": "python3"
  },
  "language_info": {
   "codemirror_mode": {
    "name": "ipython",
    "version": 3
   },
   "file_extension": ".py",
   "mimetype": "text/x-python",
   "name": "python",
   "nbconvert_exporter": "python",
   "pygments_lexer": "ipython3",
   "version": "3.12.4"
  }
 },
 "nbformat": 4,
 "nbformat_minor": 5
}

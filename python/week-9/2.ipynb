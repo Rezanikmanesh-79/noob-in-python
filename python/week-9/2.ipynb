{
 "cells": [
  {
   "cell_type": "code",
   "execution_count": 5,
   "id": "acd8e705-dfc3-4e04-aeb7-2965df6e7c92",
   "metadata": {},
   "outputs": [
    {
     "name": "stdin",
     "output_type": "stream",
     "text": [
      "give me your name :  reza nikmanesh\n"
     ]
    }
   ],
   "source": [
    "user_input=input(\"give me your name : \")"
   ]
  },
  {
   "cell_type": "code",
   "execution_count": 11,
   "id": "11535cd3-7cd0-4938-a365-f50ebf6b27cd",
   "metadata": {},
   "outputs": [
    {
     "name": "stdout",
     "output_type": "stream",
     "text": [
      "Nikmanesh, Reza \n"
     ]
    }
   ],
   "source": [
    "for i in range(len(user_input)):\n",
    "    if i==0:\n",
    "        new_name=(user_input[i].upper())+user_input[1:]\n",
    "    elif user_input[i]==\" \":\n",
    "        new_name=(user_input[i+1].upper())+user_input[i+2:]+(\", \")+new_name[:i+1]\n",
    "    else:\n",
    "        continue\n",
    "    \n",
    "print(new_name)"
   ]
  },
  {
   "cell_type": "code",
   "execution_count": null,
   "id": "08c5c744-8274-47d9-8dc5-7e4d43ec9150",
   "metadata": {},
   "outputs": [],
   "source": []
  }
 ],
 "metadata": {
  "kernelspec": {
   "display_name": "Python 3 (ipykernel)",
   "language": "python",
   "name": "python3"
  },
  "language_info": {
   "codemirror_mode": {
    "name": "ipython",
    "version": 3
   },
   "file_extension": ".py",
   "mimetype": "text/x-python",
   "name": "python",
   "nbconvert_exporter": "python",
   "pygments_lexer": "ipython3",
   "version": "3.12.4"
  }
 },
 "nbformat": 4,
 "nbformat_minor": 5
}
